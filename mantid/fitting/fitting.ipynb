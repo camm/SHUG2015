{
 "metadata": {
  "name": "",
  "signature": "sha256:61c0fbfd656da0101a745e69b0bd7a5f1e2631a7f05f20bfd277773d1996e736"
 },
 "nbformat": 3,
 "nbformat_minor": 0,
 "worksheets": [
  {
   "cells": [
    {
     "cell_type": "markdown",
     "metadata": {},
     "source": [
      "<h1>Mantid</h1>\n",
      "\n",
      "For an introduction to Mantid, you can go over at the [Basic course](http://www.mantidproject.org/Mantid_Basic_Course)\n",
      "\n",
      "<a id='Table of Contents'></a><h3>Table of Contents</h3>\n",
      " \n",
      "<a href='#intro'>Introduction to fitting in Mantid, and exercise</a>  \n",
      "<a href='#modelfit'>Fitting the sassena output</a>  \n",
      "\n",
      "\n",
      "<a href='#Section'><h4>Section</h4></a>\n",
      "\n",
      "* <a href='#Section.subsection'>subsection</a>  \n",
      "\n",
      "<a href='#Syntax'>Examples of HTML and Markdown syntax</a></br>"
     ]
    },
    {
     "cell_type": "markdown",
     "metadata": {},
     "source": [
      "(<a href='#Table of Contents'>Top</a>)<a id='intro'></a><h3>Introduction to fitting in Mantid and exercise</h3>\n",
      "\n",
      "We will go over some of the fitting capabilities in Mantid: [http://www.mantidproject.org/MBC_Setup_And_Execute_First_Fit](http://www.mantidproject.org/MBC_Setup_And_Execute_First_Fit)"
     ]
    },
    {
     "cell_type": "markdown",
     "metadata": {},
     "source": [
      "(<a href='#Table of Contents'>Top</a>)<a id='starting'></a><h3>Starting Mantid</h3>\n",
      "Bring up a terminal and enter the following commands:  \n",
      "\n",
      "<a href=\"files/supporting/starting.1.png\"><img src=\"files/supporting/starting.1.png\" width=\"400\" height=\"400\" alt=\"supporting/starting.1.png\"></a>\n",
      "\n",
      "The Mantid session will start. Select <i>SNS</i> as \"Default Facility\" and <i>BASIS</i> as \"Default Instrument\":  \n",
      "\n",
      "<a href=\"files/supporting/starting.2.png\"><img src=\"files/supporting/starting.2.png\" width=\"500\" height=\"500\" alt=\"supporting/starting.2.png\"></a>\n",
      "\n",
      "* Click on the \"Manage User Directories\" button.  \n",
      "* Click \"Browse To Directory\" and navigate to the location of the data files (/SNS/users/<b>yourusername</b>/SHUG2015/mantid/me8t8).  \n",
      "* Do the same for the default save directory.  \n",
      "\n",
      "<a href=\"files/supporting/starting.3.png\"><img src=\"files/supporting/starting.3.png\" width=\"400\" height=\"400\" alt=\"supporting/starting.3.png\"></a>\n",
      "\n",
      "* Click \"OK\".  \n",
      "* Click \"Set\". \n",
      "\n",
      "The initial Mantid session should look like the picture below, but don't worry if some of the panels are not showing up. Panels can be brought to view from the <b>View</b> menu.  \n",
      "\n",
      "<a href=\"files/supporting/starting.4.png\"><img src=\"files/supporting/starting.4.png\" width=\"800\" height=\"800\" alt=\"supporting/starting.4.png\"></a>\n"
     ]
    },
    {
     "cell_type": "markdown",
     "metadata": {},
     "source": [
      "(<a href='#Table of Contents'>Top</a>)<a id='adding_directory'></a><h3>Adding a directory to the list of \"Data Search Directories\"</h3>\n",
      "We will add directory <i>/SNS/users/share/MantidTrainingCourseData</i> to the list. This directory contains all data that is used in the Mantid courses.  \n",
      "\n",
      "First, click in the \"Manage User Directories\" icon. This will bring about the dialog window:  \n",
      "\n",
      "<center><a href=\"files/supporting/adding_directory.1.png\"><img src=\"files/supporting/adding_directory.1.png\" width=\"600\" height=\"400\" alt=\"supporting/adding_directory.1.png\"></a></center>\n",
      "\n",
      "Write down the path of the directory and then click in \"Add Directory\":  \n",
      "\n",
      "<center><a href=\"files/supporting/adding_directory.2.png\"><img src=\"files/supporting/adding_directory.2.png\" width=\"300\" height=\"300\" alt=\"supporting/adding_directory.2.png\"></a></center>\n",
      "\n",
      "Now the directory has been included in the list:  \n",
      "\n",
      "<center><a href=\"files/supporting/adding_directory.3.png\"><img src=\"files/supporting/adding_directory.3.png\" width=\"300\" height=\"300\" alt=\"supporting/adding_directory.3.png\"></a></center>\n",
      "\n",
      "Finally, click the \"OK\" button.\n",
      "\n",
      "Every time you load a file with the <i>Load</i> Algorithm, these directories will be searched.  \n",
      "\n",
      "<center><a href=\"files/supporting/adding_directory.4.png\"><img src=\"files/supporting/adding_directory.4.png\" width=\"300\" height=\"300\" alt=\"supporting/adding_directory.4.png\"></a></center>"
     ]
    },
    {
     "cell_type": "markdown",
     "metadata": {},
     "source": [
      "(<a href='#Table of Contents'>Top</a>)<a id='Section'></a><h2>Section</h2>"
     ]
    },
    {
     "cell_type": "markdown",
     "metadata": {},
     "source": [
      "(<a href='#Table of Contents'>Top</a>)<a id='Section.subsection'></a><h3>Subsection</h3>\n"
     ]
    },
    {
     "cell_type": "markdown",
     "metadata": {},
     "source": [
      "(<a href='#Table of Contents'>Top</a>)<a id='Syntax'></a><h3>Markdown Syntax Examples</h3>\n",
      "local link: [link](files/link)</br>\n",
      "remote link: <a href=\"http://ambermd.org/\">http://ambermd.org</a>\n",
      "<font face=\"courier new\"> font face=\"courier new\" </font><br/>\n",
      "$$S_{model}(Q,E)=A(Q)\\cdot S_{elastic}(E) + B(Q)\\cdot S_{simulation}(Q,E)\\otimes S_{elastic}(E) + C(Q)+D(Q)\\cdot E$$\n",
      "<pre> Quoted text </pre>\n",
      "<center><table><tr>\n",
      "<td><a href=\"files/image.png\"><img src=\"files/image.png\" width=\"300\" height=\"250\" alt=\"image here\"></a> <br/>\n",
      "    <i>image caption</i></td>\n",
      "<td>some text</td>\n",
      "</tr></table></center>"
     ]
    }
   ],
   "metadata": {}
  }
 ]
}