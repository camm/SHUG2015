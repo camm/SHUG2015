{
 "metadata": {
  "name": "",
  "signature": "sha256:61c0fbfd656da0101a745e69b0bd7a5f1e2631a7f05f20bfd277773d1996e736"
 },
 "nbformat": 3,
 "nbformat_minor": 0,
 "worksheets": [
  {
   "cells": [
    {
     "cell_type": "markdown",
     "metadata": {},
     "source": [
      "This notebook contains a tutorial to perform MD simulations of an Octamethyl Silsesquioxane molecule with NAMD and the AMBER force field\n",
      "\n",
      "<h1>me8t8</h1>\n",
      "<a id='Table of Contents'></a><h3>Table of Contents</h3>\n",
      " \n",
      "<a href='#me8t8'>Octa-methyl Silsesqioxane</a>   \n",
      "<a href='#script'>Working with python scripts</a>  \n",
      "<a href='#view'>View/Edit the contents on an ASCII file</a>  \n",
      "\n",
      "\n",
      "<a href='#Section'><h4>Section</h4></a>\n",
      "\n",
      "* <a href='#Section.subsection'>subsection</a>  \n",
      "\n",
      "<a href='#Syntax'>Examples of HTML and Markdown syntax</a></br>"
     ]
    },
    {
     "cell_type": "markdown",
     "metadata": {},
     "source": [
      "(<a href='#Table of Contents'>Top</a>)<a id='me8t8'></a><h3>Octa-methyl Silsesqioxane (mPOSS)</h3>\n",
      "The mPOSS molecule is composed of a cubic cage where silicon atoms occupy the cube vertices, and oxygen atoms are located in the cube edges (see below figure). Thus, each Si atom has a tetrahedral coordination to three O atoms and one methyl group. Methyl substitution by other chemical species makes POSS molecules highly versatile, with applications as organic solvents, polymer dispersants, catalysts, nanocomposites, diodes, and many other uses. In particular, mPOSS has found application as a coating for carbon fibers and low-dielectric films.  \n",
      "<center><a href=\"files/supporting/me8t8_molecule.png\"><img src=\"files/supporting/me8t8_molecule.png\" width=\"300\" height=\"300\" alt=\"me8t8_molecule.png\"></a></center>  \n",
      "mPOSS molecule composed of Si (yellow), O (red), C (cyan), and H (grey) atoms. Nine different chains of consecutive O-Si-C-H covalent bonds can be constructed for each methyl group, due to the three different oxygen and hydrogen atoms that can be selected at the extremes of the chain.\n",
      "<center><a href=\"files/supporting/me8t8_crystal.png\"><img src=\"files/supporting/me8t8_crystal.png\" width=\"300\" height=\"300\" alt=\"me8t8_crystal.png\"></a></center>  \n",
      "mPOSS molecule non-vibrational degrees of freedom are restricted to dicrete rotational diffusion of the methyl groups (-CH3). In the AMBER force field the barrier to rotation is described by a dihedral 4-body term.  \n",
      "<center>$V(\\phi)=K[1+cos(3\\phi)]$</center>  \n",
      "Where $\\phi$ is the dihedral angle defined by one of the nine combinations that can be formed with the four linked atoms O, Si, C, and H.  "
     ]
    },
    {
     "cell_type": "markdown",
     "metadata": {},
     "source": [
      "(<a href='#Table of Contents'>Top</a>)<a id='script'></a><h3>Working with python scripts</h3>\n",
      "All the fitting functions, settings, and tools can be carried out <i>via</i> a script <i>in lieu</i> of the graphical interface. In fact, there are complex fitting functions (like <i>DSFinterp1DFit</i>) that can only be run through a script.\n",
      "\n",
      "Scripts are written in the python language. Any text editor can be used but for convenience, we will use the script editor available in MantidPlot. It has the advantage that all algorithms are automatically loaded into the namespace, thus simplifying the coding. The script editor is opened from the <i>View</i> menu: <i>View</i> $\\rightarrow$ <i>Script Window</i>:\n",
      "\n",
      "<a href=\"files/supporting/refinement.1.png\"><img src=\"files/supporting/refinement.1.png\" width=\"300\" height=\"300\" alt=\"refinement.1.png\"></a>  <a href=\"files/supporting/refinement.2.png\"><img src=\"files/supporting/refinement.2.png\" width=\"500\" height=\"500\" alt=\"refinement.2.png\"></a> \n",
      "\n",
      "The script window has an upper pannel to write your code, and a lower pannel where output is printed.  \n",
      "\n",
      "Commands in the editor are executed from the <i>Execute</i> menu:  <i>Execute</i> $\\rightarrow$ <i>Execute all</i>. There's also the option to execute only the commands that are higlighted via <i>Execute</i> $\\rightarrow$ <i>Execute selection</i>:\n",
      "\n",
      "<a href=\"files/supporting/refinement.3.png\"><img src=\"files/supporting/refinement.3.png\" width=\"400\" height=\"400\" alt=\"refinement.3.png\"></a> <a href=\"files/supporting/refinement.4.png\"><img src=\"files/supporting/refinement.4.png\" width=\"400\" height=\"400\" alt=\"refinement.4.png\"></a> \n",
      "\n",
      "In the output panel, only <code>two</code> and <code>three</code> are printed. Notice also the green arrow indicating the last line in the script that was executed."
     ]
    },
    {
     "cell_type": "markdown",
     "metadata": {},
     "source": [
      "(<a href='#Table of Contents'>Top</a>)<a id='view'></a><h3>View/Edit the contents on an ASCII file</h3>\n",
      "For those not familiar with the Linux operating system, we enumerate here a few ways to view and/or edit an ASCII file:  \n",
      "\n",
      "1 File is shown in the terminal:  "
     ]
    },
    {
     "cell_type": "code",
     "collapsed": false,
     "input": [
      "%%bash\n",
      "cat file  #will dump all contents of the file to the terminal\n",
      "less file #will fill the terminal with beginning of the file, and wait for user input\n",
      "vi file #the best Linux text editor according to vi fans\n",
      "emacs -nw file #the best Linux text editor according to emacs fans"
     ],
     "language": "python",
     "metadata": {},
     "outputs": []
    },
    {
     "cell_type": "markdown",
     "metadata": {},
     "source": [
      "2 File is shown in a separate window"
     ]
    },
    {
     "cell_type": "code",
     "collapsed": false,
     "input": [
      "%%bash\n",
      "emacs file &\n",
      "gedit file  & #recommended for those familiar with windows, similar to notepad\n",
      "openoffice.org file & #like WORD, maybe to much for a simple ASCII file"
     ],
     "language": "python",
     "metadata": {},
     "outputs": []
    },
    {
     "cell_type": "markdown",
     "metadata": {},
     "source": [
      "(<a href='#Table of Contents'>Top</a>)<a id='Section'></a><h2>Section</h2>"
     ]
    },
    {
     "cell_type": "markdown",
     "metadata": {},
     "source": [
      "(<a href='#Table of Contents'>Top</a>)<a id='Section.subsection'></a><h3>Subsection</h3>\n"
     ]
    },
    {
     "cell_type": "markdown",
     "metadata": {},
     "source": [
      "(<a href='#Table of Contents'>Top</a>)<a id='Syntax'></a><h3>Markdown Syntax Examples</h3>\n",
      "local link: [link](files/link)</br>\n",
      "remote link: <a href=\"http://ambermd.org/\">http://ambermd.org</a>\n",
      "<font face=\"courier new\"> font face=\"courier new\" </font><br/>\n",
      "$$S_{model}(Q,E)=A(Q)\\cdot S_{elastic}(E) + B(Q)\\cdot S_{simulation}(Q,E)\\otimes S_{elastic}(E) + C(Q)+D(Q)\\cdot E$$\n",
      "<pre> Quoted text </pre>\n",
      "<center><table><tr>\n",
      "<td><a href=\"files/image.png\"><img src=\"files/image.png\" width=\"300\" height=\"250\" alt=\"image here\"></a> <br/>\n",
      "    <i>image caption</i></td>\n",
      "<td>some text</td>\n",
      "</tr></table></center>"
     ]
    }
   ],
   "metadata": {}
  }
 ]
}