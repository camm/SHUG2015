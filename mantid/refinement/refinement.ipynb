{
 "metadata": {
  "name": "",
  "signature": "sha256:61c0fbfd656da0101a745e69b0bd7a5f1e2631a7f05f20bfd277773d1996e736"
 },
 "nbformat": 3,
 "nbformat_minor": 0,
 "worksheets": [
  {
   "cells": [
    {
     "cell_type": "markdown",
     "metadata": {},
     "source": [
      "(<a href='#Table of Contents'>Top</a>)<a id='guess'></a><h3>Obtaining an initial guess</h3>\n"
     ]
    },
    {
     "cell_type": "markdown",
     "metadata": {},
     "source": [
      "This notebook contains a tutorial to perform MD simulations of an Octamethyl Silsesquioxane molecule with NAMD and the AMBER force field\n",
      "\n",
      "<h1>me8t8</h1>\n",
      "<a id='Table of Contents'></a><h3>Table of Contents</h3>\n",
      " \n",
      "<a href='#me8t8'>Octa-methyl Silsesqioxane</a>   \n",
      "<a href='#script'>Working with python scripts</a>  \n",
      "<a href='#fitting'>Fitting of Methyl dihedral barrier of Octamethyl Silsesqiuoxane</a>  \n",
      "<a href='#guess'>Obtaining an initial guess</a>  \n",
      "<a href='#view'>View/Edit the contents on an ASCII file</a>  \n",
      "\n",
      "\n",
      "<a href='#Section'><h4>Section</h4></a>\n",
      "\n",
      "* <a href='#Section.subsection'>subsection</a>  \n",
      "\n",
      "<a href='#Syntax'>Examples of HTML and Markdown syntax</a></br>"
     ]
    },
    {
     "cell_type": "markdown",
     "metadata": {},
     "source": [
      "(<a href='#Table of Contents'>Top</a>)<a id='me8t8'></a><h3>Octa-methyl Silsesqioxane (mPOSS)</h3>\n",
      "The mPOSS molecule is composed of a cubic cage where silicon atoms occupy the cube vertices, and oxygen atoms are located in the cube edges (see below figure). Thus, each Si atom has a tetrahedral coordination to three O atoms and one methyl group. Methyl substitution by other chemical species makes POSS molecules highly versatile, with applications as organic solvents, polymer dispersants, catalysts, nanocomposites, diodes, and many other uses. In particular, mPOSS has found application as a coating for carbon fibers and low-dielectric films.  \n",
      "<center><a href=\"files/supporting/me8t8_molecule.png\"><img src=\"files/supporting/me8t8_molecule.png\" width=\"300\" height=\"300\" alt=\"me8t8_molecule.png\"></a></center>  \n",
      "mPOSS molecule composed of Si (yellow), O (red), C (cyan), and H (grey) atoms. Nine different chains of consecutive O-Si-C-H covalent bonds can be constructed for each methyl group, due to the three different oxygen and hydrogen atoms that can be selected at the extremes of the chain.\n",
      "<center><a href=\"files/supporting/me8t8_crystal.png\"><img src=\"files/supporting/me8t8_crystal.png\" width=\"300\" height=\"300\" alt=\"me8t8_crystal.png\"></a></center>  \n",
      "mPOSS molecule non-vibrational degrees of freedom are restricted to dicrete rotational diffusion of the methyl groups (-CH3). In the AMBER force field the barrier to rotation is described by a dihedral 4-body term.  \n",
      "<center>$V(\\phi)=K[1+cos(3\\phi)]$</center>  \n",
      "Where $\\phi$ is the dihedral angle defined by one of the nine combinations that can be formed with the four linked atoms O, Si, C, and H.  "
     ]
    },
    {
     "cell_type": "markdown",
     "metadata": {},
     "source": [
      "(<a href='#Table of Contents'>Top</a>)<a id='script'></a><h3>Working with python scripts</h3>\n",
      "All the fitting functions, settings, and tools can be carried out <i>via</i> a script <i>in lieu</i> of the graphical interface. In fact, there are complex fitting functions (like <i>DSFinterp1DFit</i>) that can only be run through a script.\n",
      "\n",
      "Scripts are written in the python language. Any text editor can be used but for convenience, we will use the script editor available in MantidPlot. It has the advantage that all algorithms are automatically loaded into the namespace, thus simplifying the coding. The script editor is opened from the <i>View</i> menu: <i>View</i> $\\rightarrow$ <i>Script Window</i>:\n",
      "\n",
      "<a href=\"files/supporting/refinement.1.png\"><img src=\"files/supporting/refinement.1.png\" width=\"300\" height=\"300\" alt=\"refinement.1.png\"></a>  <a href=\"files/supporting/refinement.2.png\"><img src=\"files/supporting/refinement.2.png\" width=\"500\" height=\"500\" alt=\"refinement.2.png\"></a> \n",
      "\n",
      "The script window has an upper pannel to write your code, and a lower pannel where output is printed.  \n",
      "\n",
      "Commands in the editor are executed from the <i>Execute</i> menu:  <i>Execute</i> $\\rightarrow$ <i>Execute all</i>. There's also the option to execute only the commands that are higlighted via <i>Execute</i> $\\rightarrow$ <i>Execute selection</i>:\n",
      "\n",
      "<a href=\"files/supporting/refinement.3.png\"><img src=\"files/supporting/refinement.3.png\" width=\"400\" height=\"400\" alt=\"refinement.3.png\"></a> <a href=\"files/supporting/refinement.4.png\"><img src=\"files/supporting/refinement.4.png\" width=\"400\" height=\"400\" alt=\"refinement.4.png\"></a> \n",
      "\n",
      "In the output panel, only <code>two</code> and <code>three</code> are printed. Notice also the green arrow indicating the last line in the script that was executed."
     ]
    },
    {
     "cell_type": "markdown",
     "metadata": {},
     "source": [
      "(<a href='#Table of Contents'>Top</a>)<a id='fitting'></a><h3>Fitting of Methyl dihedral barriers of Octamethyl Silsesqiuoxane MPOSS</h3>\n",
      "Following the outlined strategy, we performed molecular dynamics simulations of a single mPOSS molecule for different values of the dihedral potential barrier.\n",
      "\n",
      "* Simulatons are 20ns long for improved resolution of $S(Q,E)$\n",
      "* Simulated values for dihedral potential barrier K are 0.02, 0.03, 0.04,...,0.14 (Kcal/mol)\n",
      "* $I(Q,t)$ calculated with Sassena.\n",
      "\n",
      "The output from the Sassena calculations are files <i>fqt_inc_run1_rms2first.h5</i>, located in in subdirectories <code>&#36;USER/SHUG2015/mantid/refinement/data/K&#36;K/T_200/</code>, where <code>&#36;K</code> is any one of the dihedral potential barriers.  \n",
      "\n",
      "The fitting proces involves the following steps:\n",
      "\n",
      "* Loading the experimental data ($S(Q,E)$ and resolution function)\n",
      "* Loading the computed $I(Q,t)$\n",
      "* Transform the computed $I(Q,t)$ to a computed $S(Q,E)$ commensurable to the experimental data (energy and Q binning, convolved)\n",
      "* Write up the fitting model and obtain a initial guess\n",
      "* Do the fit\n",
      "\n",
      "All these steps are coded in this python script, which can be copied to the MantidPlot script window, and executed."
     ]
    },
    {
     "cell_type": "code",
     "collapsed": false,
     "input": [
      "rootd='/SNSlocal/scratch/jbq/me8t8/data'\n",
      "LoadNexus(Filename='{0}/elastic.nxs'.format(rootd), OutputWorkspace='elastic')\n",
      "LoadNexus(Filename='{0}/exp200K.nxs'.format(rootd), OutputWorkspace='exp200K')\n",
      "parametervalues='0.02 0.03 0.04 0.05 0.06 0.07 0.08 0.09 0.10 0.11 0.12 0.13 0.14'\n",
      "for K in parametervalues.split():\n",
      "\tLoadSassena(Filename='{0}/K{1}/T_200/fqt_inc_run1_rms2first.h5'.format(rootd,K), TimeUnit=1.0, OutputWorkspace='incSMK{0}'.format(K))\n",
      "\tif K=='0.11':\n",
      "\t\tTranspose(InputWorkspace='incSMK0.11_fqt.Re', OutputWorkspace='incSMK0.11_fqt.Re')   #from I(Q,t) to I(t,Q)\n",
      "\t\tRebin(InputWorkspace='incSMK0.11_fqt.Re', Params=[0.2,0.2,2.0], OutputWorkspace='incSMK0.11_fqt.Re') #Rebin in Q to (0.3, 0.5,..,1.9)\n",
      "\t\tTranspose(InputWorkspace='incSMK0.11_fqt.Re', OutputWorkspace='incSMK0.11_fqt.Re')  # from I(t,Q) back to I(Q,t)\n",
      "\t\tScale(InputWorkspace='incSMK0.11_fqt.Re', factor=0.5, Operation='Multiply', OutputWorkspace='incSMK0.11_fqt.Re')\n",
      "\tSassenaFFT(InputWorkspace='incSMK{0}'.format(K), FFTonlyRealpart=1, DetailedBalance=1, Temp=200)\n",
      "\tRebin(InputWorkspace='incSMK{0}_sqw'.format(K), Params=[-0.2,0.0004,0.2], OutputWorkspace='incSMK{0}_sqw'.format(K))\n",
      "\tws=mtd['incSMK{0}_sqw'.format(K)]  # simulated S(Q,E)\n",
      "\tfor iQ in range(9):\n",
      "\t\tQ=0.03+0.02*iQ  #not neccessary but just to remind the Q-value\n",
      "\t\tSQE=ws.dataY(iQ)\n",
      "\t\tSQE[499]=SQE[498]   \n",
      "\t\tSQE[500]=SQE[501]\n",
      "for K in parametervalues.split():\n",
      "\tConvolveWorkspaces(Workspace1='elastic', Workspace2='incSMK{0}_sqw'.format(K), OutputWorkspace='simSMK{0}'.format(K))\n",
      "for K in parametervalues.split():\n",
      "\tScale(InputWorkspace='simSMK{0}'.format(K), Factor=1.0e-05,Operation='Multiply', OutputWorkspace='simSMK{0}'.format(K))\n",
      "guess={'Scaling':1.0, 'Intensity':1.0, 'K':0.065}\n",
      "inputworkspaces=' '.join( ['simSMK{0}'.format(K) for K in parametervalues.split()])\n",
      "for iw in range(8,-1,-1): \n",
      "\tQ=0.3+iw*0.2\n",
      "\tfit_string = 'name=TabulatedFunction,Workspace=elastic,WorkspaceIndex={0},Scaling={1},constraints=(0.0001<Scaling),XScaling=1.0,ties=(XScaling=1.0);'.format(iw,guess['Scaling'])+\\\n",
      "\t\t'name=DSFinterp1DFit,InputWorkspaces=\"{0}\",ParameterValues=\"{1}\",'.format(inputworkspaces,parametervalues) +\\\n",
      "\t\t'LoadErrors=0,LocalRegression=1,RegressionType=quadratic,RegressionWindow=4,' +\\\n",
      "\t\t'WorkspaceIndex={0},Intensity={1},TargetParameter={2},'.format(iw,guess['Intensity'],guess['K']) +\\\n",
      "\t\t'constraints=(0.0001<Intensity);' +\\\n",
      "\t\t'name=LinearBackground,A0=0.0,A1=0.0'\n",
      "\tFit(fit_string, InputWorkspace='exp200K', WorkspaceIndex=iw, StartX=-0.13, EndX=0.1, CreateOutput = 1 )\n",
      "\tws=mtd['exp200K_Parameters'] # Workspace resulting from the fitting containing the optimal value of the fitting parameters and the Chi2\n",
      "\tKoptimal=ws.row(4)['Value']\n",
      "\tprint 'Q=', Q, 'L={0:5.1f}'.format( 6.2832/Q), 'K={0:6.4f}'.format(Koptimal), 'Chi2={0:3.1f}'.format(ws.row(7)['Value'])\n",
      "\tguess['Scaling']=ws.row(0)['Value']\n",
      "\tguess['Intensity']=ws.row(1)['Value']"
     ],
     "language": "python",
     "metadata": {},
     "outputs": []
    },
    {
     "cell_type": "markdown",
     "metadata": {},
     "source": [
      "A detailed explanation of this script follows:"
     ]
    },
    {
     "cell_type": "code",
     "collapsed": false,
     "input": [
      "rootd='/SNSlocal/scratch/jbq/me8t8/data'"
     ],
     "language": "python",
     "metadata": {},
     "outputs": []
    },
    {
     "cell_type": "markdown",
     "metadata": {},
     "source": [
      "Working directory."
     ]
    },
    {
     "cell_type": "code",
     "collapsed": false,
     "input": [
      "LoadNexus(Filename='{0}/elastic.nxs'.format(rootd), OutputWorkspace='elastic')\n",
      "LoadNexus(Filename='{0}/exp200K.nxs'.format(rootd), OutputWorkspace='exp200K')"
     ],
     "language": "python",
     "metadata": {},
     "outputs": []
    },
    {
     "cell_type": "markdown",
     "metadata": {},
     "source": [
      "Load into MantidPlot the experimental resolution file (<i>elastic.nxs</i>) and the experimental structure factor file <i>exp200K.nxs</i>. The file contains $S(Q,E)$ for a powser sample of mPOSS at T=200K. It contains 9 spectra, each at a different Q value. ($Q=$0.3, 0.5, 0.7,..,1.9) and defined in the energy domain $E=$[-0.15, 0.15]meV.  \n",
      "\n",
      "<center><a href=\"files/supporting/refinement.5.png\"><img src=\"files/supporting/refinement.5.png\" width=\"300\" height=\"300\" alt=\"refinement.5.png\"></a></center>"
     ]
    },
    {
     "cell_type": "code",
     "collapsed": false,
     "input": [
      "parametervalues='0.02 0.03 0.04 0.05 0.06 0.07 0.08 0.09 0.10 0.11 0.12 0.13 0.14'"
     ],
     "language": "python",
     "metadata": {},
     "outputs": []
    },
    {
     "cell_type": "markdown",
     "metadata": {},
     "source": [
      "The list of values for the dihedral potential barrier $K$ for which we did simulations"
     ]
    },
    {
     "cell_type": "code",
     "collapsed": false,
     "input": [
      "for K in parametervalues.split():"
     ],
     "language": "python",
     "metadata": {},
     "outputs": []
    },
    {
     "cell_type": "markdown",
     "metadata": {},
     "source": [
      "We will perform a series of commands for each of the simulated $I(Q,t)$"
     ]
    },
    {
     "cell_type": "code",
     "collapsed": false,
     "input": [
      "\tLoadSassena(Filename='{0}/K{1}/T_200/fqt_inc_run1_rms2first.h5'.format(rootd,K), TimeUnit=1.0, OutputWorkspace='incSMK{0}'.format(K))"
     ],
     "language": "python",
     "metadata": {},
     "outputs": []
    },
    {
     "cell_type": "markdown",
     "metadata": {},
     "source": [
      "For instance, for simulation with $K=0.02$, load Sassena output file <i>fqt_inc_run1_rms2first.h5</i> into workspace <code>incSMK0.02</code>.  \n",
      "\n",
      "Workspace <code>incSMK0.02_fqt.Re</code> contains as many spectra as the experimental $S(Q,E)$, and with the same Q-values. This facilitates comparison between simulation and experiment.\n",
      "\n",
      "<center><a href=\"files/supporting/refinement.6.png\"><img src=\"files/supporting/refinement.6.png\" width=\"600\" height=\"600\" alt=\"refinement.6.png\"></a></center>\n"
     ]
    },
    {
     "cell_type": "code",
     "collapsed": false,
     "input": [
      "\tif K=='0.11':\n",
      "\t\tTranspose(InputWorkspace='incSMK0.11_fqt.Re', OutputWorkspace='incSMK0.11_fqt.Re')   #from I(Q,t) to I(t,Q)\n",
      "\t\tRebin(InputWorkspace='incSMK0.11_fqt.Re', Params=[0.2,0.2,2.0], OutputWorkspace='incSMK0.11_fqt.Re') #Rebin in Q to (0.3, 0.5,..,1.9)\n",
      "\t\tTranspose(InputWorkspace='incSMK0.11_fqt.Re', OutputWorkspace='incSMK0.11_fqt.Re')  # from I(t,Q) back to I(Q,t)\n",
      "\t\tScale(InputWorkspace='incSMK0.11_fqt.Re', factor=0.5, Operation='Multiply', OutputWorkspace='incSMK0.11_fqt.Re')"
     ],
     "language": "python",
     "metadata": {},
     "outputs": []
    },
    {
     "cell_type": "markdown",
     "metadata": {},
     "source": [
      "What happens if our simulation has different Q-values than the experiment? This could happen if we did the simulations <i>before</i> the experiment. The solution is to <code>Rebin</code> our simulated $I(Q,t)$ along the Q-axis, so that the binning corresponds to that of the experiment.  \n",
      "\n",
      "We showcase this problem with the simulation that was done for $K=0.11$.\n",
      "\n",
      "* Initial binning of $I(Q,t)$ is $Q=0.2, 0.3, 0.4,..., 2.0$  (the binning width is 0.1)\n",
      "* Desired binning is $Q=0.3,0.5,0.7,...,1.9$  (the binning width is 0.2)\n",
      "\n",
      "The required steps are:\n",
      "\n",
      "* Transpose $I(Q,t)$ to $I(t,Q)$\n",
      "* Execute the <code>Rebin</code> algorithm on $I(t,Q)$. <code>Params=[0.2, 0.2, 2.0]</code> indicates a bin width $w=0.2$ (the second value), and initial $Q_i=0.2+w/2=0.3$ and a final $Q_f=2.0-w/2=1.9$.\n",
      "* Transpose back to $I(Q,t)$\n",
      "* Rescale by half because the final binning width is twice the initial binning width"
     ]
    },
    {
     "cell_type": "code",
     "collapsed": false,
     "input": [
      "\tSassenaFFT(InputWorkspace='incSMK{0}'.format(K), FFTonlyRealpart=1, DetailedBalance=1, Temp=200)"
     ],
     "language": "python",
     "metadata": {},
     "outputs": []
    },
    {
     "cell_type": "markdown",
     "metadata": {},
     "source": [
      "Fourier transform $I(Q,t) \\rightarrow S(Q,E)$ with algorithm [SassenaFFT](http://docs.mantidproject.org/nightly/algorithms/SassenaFFT-v1.html). It will read in group workspace <code>incSMK0.2</code> and append workspace <code>incSMK0.02_sqw</code>"
     ]
    },
    {
     "cell_type": "code",
     "collapsed": false,
     "input": [
      "\tRebin(InputWorkspace='incSMK{0}_sqw'.format(K), Params=[-0.2,0.0004,0.2], OutputWorkspace='incSMK{0}_sqw'.format(K))"
     ],
     "language": "python",
     "metadata": {},
     "outputs": []
    },
    {
     "cell_type": "markdown",
     "metadata": {},
     "source": [
      "The energy binning of the computed $S(Q,E)$ goes from $E_i=-2meV$ to $E_f=2meV$ with bin width $0.1\\mu eV$. This binning is different than the experimental binning ($E_i=-0.15meV$, $E_f=0.15meV$, bin-width=$0.4\\mu eV$), hence the rebinning step. Note that our final binnin has the same width than experiment, but over a slightly broader dynamic range. This is neccessary for the convolution step that will be performed later.\n",
      "\n",
      "<center><a href=\"files/supporting/refinement.7.png\"><img src=\"files/supporting/refinement.7.png\" width=\"600\" height=\"600\" alt=\"refinement.7.png\"></a></center>\n",
      "\n",
      "In the picture above it is shown $S(Q=1.9,E, K=0.2)$, with a prominent elastic line and a quasi-elastic broadening (notice the Log-scale).  \n",
      "\n",
      "The elastic line represents the <b>long-time self-correlation of the hydrogen atoms</b>. Accurately reproducing this long-time self-correlation is the weakest point in our simulations due to the disparity in simulated and experimental environment surrounding each mPOSS molecule:\n",
      "\n",
      "* In experiment each mPOSS molecule is surrounded by neighboring molecules $\\rightarrow$ slow caged diffusion of the center of mass\n",
      "* In simulations the mPOSS molecule is surrounded by vacuum, and we <b>removed</b> global rotations and translations to focus on the internal motions of the molecule.\n",
      "\n",
      "Our simulations cannot reproduce the diffusive motions of the molecule CoM. Thus, our elastic line will have a higher intensity than in experiments."
     ]
    },
    {
     "cell_type": "code",
     "collapsed": false,
     "input": [
      "\tws=mtd['incSMK{0}_sqw'.format(K)]  # simulated S(Q,E)\n",
      "\tfor iQ in range(9):\n",
      "\t\tQ=0.03+0.02*iQ  #not neccessary but just to remind the Q-value\n",
      "\t\tSQE=ws.dataY(iQ)\n",
      "\t\tSQE[499]=SQE[498]   \n",
      "\t\tSQE[500]=SQE[501]"
     ],
     "language": "python",
     "metadata": {},
     "outputs": []
    },
    {
     "cell_type": "markdown",
     "metadata": {},
     "source": [
      "Remove the elastic line from the computed $S(Q,E)$. Later we will include an elastic line in our fitting model. We will treat the elastic line as an additional fitting parameter.\n",
      "\n",
      "* The first line will return a handle to the workspace <code>incSMK0.02_sqw</code>\n",
      "* For each spectrum, we will change the value of the elastic line (points 499 and 500) to the values of the respective neightboring points (498 and 501)\n",
      "\n",
      "<a href=\"files/supporting/refinement.8.png\"><img src=\"files/supporting/refinement.8.png\" width=\"400\" height=\"400\" alt=\"refinement.8.png\"></a>  <a href=\"files/supporting/refinement.9.png\"><img src=\"files/supporting/refinement.9.png\" width=\"400\" height=\"400\" alt=\"refinement.9.png\"></a>\n"
     ]
    },
    {
     "cell_type": "code",
     "collapsed": false,
     "input": [
      "for K in parametervalues.split():\n",
      "\tConvolveWorkspaces(Workspace1='elastic', Workspace2='incSMK{0}_sqw'.format(K), OutputWorkspace='simSMK{0}'.format(K))"
     ],
     "language": "python",
     "metadata": {},
     "outputs": []
    },
    {
     "cell_type": "markdown",
     "metadata": {},
     "source": [
      "Convolve experimental resolution with computed $S(Q,E)$ <code>incSMK0.02_sqw</code> and store in workspace <code>simSMK0.02</code>. Notice that the dynamical range is now $[-0.15, 0.15]$ meV, that of the experimental resolution.\n",
      "\n",
      "<a href=\"files/supporting/refinement.10.png\"><img src=\"files/supporting/refinement.10.png\" width=\"400\" height=\"400\" alt=\"refinement.10.png\"></a>  <a href=\"files/supporting/refinement.11.png\"><img src=\"files/supporting/refinement.11.png\" width=\"400\" height=\"400\" alt=\"refinement.11.png\"></a>"
     ]
    },
    {
     "cell_type": "code",
     "collapsed": false,
     "input": [
      "for K in parametervalues.split():\n",
      "\tScale(InputWorkspace='simSMK{0}'.format(K), Factor=1.0e-05,Operation='Multiply', OutputWorkspace='simSMK{0}'.format(K))"
     ],
     "language": "python",
     "metadata": {},
     "outputs": []
    },
    {
     "cell_type": "markdown",
     "metadata": {},
     "source": [
      "Notice the difference in order of magnitude of intensities between the simulated signal and the experimental data. We remove this disparity with a rescaling, because it has the potential to prevent the fitting from succeeding.\n",
      "\n",
      "<center><a href=\"files/supporting/refinement.12.png\"><img src=\"files/supporting/refinement.12.png\" width=\"400\" height=\"400\" alt=\"refinement.12.png\"></a></center>"
     ]
    },
    {
     "cell_type": "code",
     "collapsed": false,
     "input": [
      "guess={'Scaling':1.0, 'Intensity':1.0, 'K':0.065}"
     ],
     "language": "python",
     "metadata": {},
     "outputs": []
    },
    {
     "cell_type": "markdown",
     "metadata": {},
     "source": [
      "The initial guess, the result of running algorithm <code>DSFinterp1DFit</code>"
     ]
    },
    {
     "cell_type": "code",
     "collapsed": false,
     "input": [
      "\tfit_string = 'name=TabulatedFunction,Workspace=elastic,' +\\\n",
      "        'WorkspaceIndex={0},Scaling={1},constraints=(0.0001<Scaling),XScaling=1.0,ties=(XScaling=1.0);'.format(iw,guess['Scaling'])+\\\n",
      "\t\t'name=DSFinterp1DFit,InputWorkspaces=\"{0}\",ParameterValues=\"{1}\",'.format(inputworkspaces,parametervalues) +\\\n",
      "\t\t'LoadErrors=0,LocalRegression=1,RegressionType=quadratic,RegressionWindow=4,' +\\\n",
      "\t\t'WorkspaceIndex={0},Intensity={1},TargetParameter={2},'.format(iw,guess['Intensity'],guess['K']) +\\\n",
      "\t\t'constraints=(0.0001<Intensity);' +\\\n",
      "\t\t'name=LinearBackground,A0=0.0,A1=0.0'"
     ],
     "language": "python",
     "metadata": {},
     "outputs": []
    },
    {
     "cell_type": "markdown",
     "metadata": {},
     "source": [
      "This is our fitting model. Instead of using the graphical interface, we can write it out as a (complex) string.\n",
      "\n",
      "<center>$S_{model}(Q,E) = I_{el}\\cdot R(Q,E) + I_{QE}\\cdot S_{sim}(Q,E) + (aE+b)$</center>  \n",
      "\n",
      "$I_{el}\\cdot R(Q,E)$ is the elastic line which we removed from the computed $S(Q,E)$\n",
      "\n",
      "$I_{QE}\\cdot S_{sim}(Q,E)$ is the interpolated structure factor <i>via</i> fitting function <code>DSFinterp1DFit</code>:\n",
      "\n",
      "* we pass the "
     ]
    },
    {
     "cell_type": "markdown",
     "metadata": {},
     "source": [
      "(<a href='#Table of Contents'>Top</a>)<a id='view'></a><h3>View/Edit the contents on an ASCII file</h3>\n",
      "For those not familiar with the Linux operating system, we enumerate here a few ways to view and/or edit an ASCII file:  \n",
      "\n",
      "1 File is shown in the terminal:  "
     ]
    },
    {
     "cell_type": "code",
     "collapsed": false,
     "input": [
      "%%bash\n",
      "cat file  #will dump all contents of the file to the terminal\n",
      "less file #will fill the terminal with beginning of the file, and wait for user input\n",
      "vi file #the best Linux text editor according to vi fans\n",
      "emacs -nw file #the best Linux text editor according to emacs fans"
     ],
     "language": "python",
     "metadata": {},
     "outputs": []
    },
    {
     "cell_type": "markdown",
     "metadata": {},
     "source": [
      "2 File is shown in a separate window"
     ]
    },
    {
     "cell_type": "code",
     "collapsed": false,
     "input": [
      "%%bash\n",
      "emacs file &\n",
      "gedit file  & #recommended for those familiar with windows, similar to notepad\n",
      "openoffice.org file & #like WORD, maybe to much for a simple ASCII file"
     ],
     "language": "python",
     "metadata": {},
     "outputs": []
    },
    {
     "cell_type": "markdown",
     "metadata": {},
     "source": [
      "(<a href='#Table of Contents'>Top</a>)<a id='Section'></a><h2>Section</h2>"
     ]
    },
    {
     "cell_type": "markdown",
     "metadata": {},
     "source": [
      "(<a href='#Table of Contents'>Top</a>)<a id='Section.subsection'></a><h3>Subsection</h3>\n"
     ]
    },
    {
     "cell_type": "markdown",
     "metadata": {},
     "source": [
      "(<a href='#Table of Contents'>Top</a>)<a id='Syntax'></a><h3>Markdown Syntax Examples</h3>\n",
      "local link: [link](files/link)</br>\n",
      "remote link: <a href=\"http://ambermd.org/\">http://ambermd.org</a>\n",
      "<font face=\"courier new\"> font face=\"courier new\" </font><br/>\n",
      "$$S_{model}(Q,E)=A(Q)\\cdot S_{elastic}(E) + B(Q)\\cdot S_{simulation}(Q,E)\\otimes S_{elastic}(E) + C(Q)+D(Q)\\cdot E$$\n",
      "<pre> Quoted text </pre>\n",
      "<center><table><tr>\n",
      "<td><a href=\"files/image.png\"><img src=\"files/image.png\" width=\"300\" height=\"250\" alt=\"image here\"></a> <br/>\n",
      "    <i>image caption</i></td>\n",
      "<td>some text</td>\n",
      "</tr></table></center>"
     ]
    }
   ],
   "metadata": {}
  }
 ]
}