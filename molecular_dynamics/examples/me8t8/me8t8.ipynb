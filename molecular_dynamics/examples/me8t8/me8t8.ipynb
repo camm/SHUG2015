{
 "metadata": {
  "name": "",
  "signature": "sha256:61c0fbfd656da0101a745e69b0bd7a5f1e2631a7f05f20bfd277773d1996e736"
 },
 "nbformat": 3,
 "nbformat_minor": 0,
 "worksheets": [
  {
   "cells": [
    {
     "cell_type": "markdown",
     "metadata": {},
     "source": [
      "This notebook contains a tutorial to perform MD simulations of an Octamethyl Silsesquioxane molecule with NAMD and the AMBER force field\n",
      "\n",
      "<h1>me8t8</h1>\n",
      "<a id='Table of Contents'></a><h3>Table of Contents</h3>\n",
      " \n",
      "<a href='#me8t8'>Octa-methyl Silsesqioxane</a>  \n",
      "<a href='#carry_MD'>Carry out the simulation</a>  \n",
      "<a href='#visualize'>Visualize the simulation, plot thermodynamic quantities</a>  \n",
      "<a href='#carry_MD_NVE'>Carry out the simulation in the NVE ensemble</a>  \n",
      "<a href='#RMSD'>Remove global translations and rotations with AmberTools</a>  \n",
      "<a href='#view'>View/Edit the contents on an ASCII file</a>\n",
      "\n",
      "<a href='#Section'><h4>Section</h4></a>\n",
      "\n",
      "* <a href='#Section.subsection'>subsection</a>  \n",
      "    - <a href='#Section.subsection.subsubsection'>Subsubsetion</a>  \n",
      "        + <a href='#Section.subsection.subsubsection.subsubsubsection'>sub-sub-subsection</a>  \n",
      "\n",
      "<a href='#Syntax'>Examples of HTML and Markdown syntax</a></br>"
     ]
    },
    {
     "cell_type": "markdown",
     "metadata": {},
     "source": [
      "(<a href='#Table of Contents'>Top</a>)<a id='me8t8'></a><h3>Octa-methyl Silsesqioxane (mPOSS)</h3>\n",
      "The mPOSS molecule is composed of a cubic cage where silicon atoms occupy the cube vertices, and oxygen atoms are located in the cube edges (see below figure). Thus, each Si atom has a tetrahedral coordination to three O atoms and one methyl group. Methyl substitution by other chemical species makes POSS molecules highly versatile, with applications as organic solvents, polymer dispersants, catalysts, nanocomposites, diodes, and many other uses. In particular, mPOSS has found application as a coating for carbon fibers and low-dielectric films.  \n",
      "<center><a href=\"files/supporting/me8t8_molecule.png\"><img src=\"files/supporting/me8t8_molecule.png\" width=\"300\" height=\"300\" alt=\"me8t8_molecule.png\"></a></center>  \n",
      "mPOSS molecule composed of Si (yellow), O (red), C (cyan), and H (grey) atoms. Nine different chains of consecutive O-Si-C-H covalent bonds can be constructed for each methyl group, due to the three different oxygen and hydrogen atoms that can be selected at the extremes of the chain.\n",
      "<center><a href=\"files/supporting/me8t8_crystal.png\"><img src=\"files/supporting/me8t8_crystal.png\" width=\"300\" height=\"300\" alt=\"me8t8_crystal.png\"></a></center>  \n",
      "mPOSS molecule non-vibrational degrees of freedom are restricted to dicrete rotational diffusion of the methyl groups (-CH3). In the AMBER force field the barrier to rotation is described by a dihedral 4-body term.  \n",
      "<center>$V(\\phi)=K[1+cos(3\\phi)]$</center>  \n",
      "Where $\\phi$ is the dihedral angle defined by one of the nine combinations that can be formed with the four linked atoms O, Si, C, and H.  "
     ]
    },
    {
     "cell_type": "markdown",
     "metadata": {},
     "source": [
      "(<a href='#Table of Contents'>Top</a>)<a id='carry_MD'></a><h3>Carry out the simulation</h3>\n",
      "\n",
      "We will simulate a single molecule. The neccesary files to carry out the simulation are:  \n",
      "\n",
      "* me8t8.pdb (list of atoms and molecule name)\n",
      "* me8t8.prmtop (force field and topology)\n",
      "* run0.restart.coor (initial coordinates)\n",
      "* run1.conf (NAMD run options)\n",
      "\n",
      "Inspect file <i>run1.conf</i> (there are many ways in Linux to <a href='#view'>view/edit the contents on an ASCII file</a>)  How long is the simulation? How many snapshots, or frames, will be saved? Which ensemble are we running?\n",
      "\n",
      "1 <b>In the terminal</b>, go to the directory containing the files, then create a subdirectory in your scratch area and copy the files there. "
     ]
    },
    {
     "cell_type": "code",
     "collapsed": false,
     "input": [
      "%%bash\n",
      "mkdir -p /SNS/local/scratch/$USER/me8t8/\n",
      "cd $HOME/SHUG2015/molecular_dynamics/examples/me8t8/\n",
      "cp me8t8.pdb  me8t8.prmtop  run0.restart.coor  run1.conf /SNS/local/scratch/$USER/me8t8/\n",
      "cd /SNS/local/scratch/$USER/me8t8/"
     ],
     "language": "python",
     "metadata": {},
     "outputs": []
    },
    {
     "cell_type": "markdown",
     "metadata": {},
     "source": [
      "2 Load the NAMD module. This will make available the namd command to actually run the simulation"
     ]
    },
    {
     "cell_type": "code",
     "collapsed": false,
     "input": [
      "%%bash\n",
      "module load namd\n",
      "which namd2  #will print the path to the namd executable"
     ],
     "language": "python",
     "metadata": {},
     "outputs": []
    },
    {
     "cell_type": "markdown",
     "metadata": {},
     "source": [
      "Now run the simulation. We ask that you limit to four cores. It should take about 6 minutes"
     ]
    },
    {
     "cell_type": "code",
     "collapsed": false,
     "input": [
      "%%bash\n",
      "time namd2 +idlepoll +p4 run1.conf > run1.log"
     ],
     "language": "python",
     "metadata": {},
     "outputs": []
    },
    {
     "cell_type": "markdown",
     "metadata": {},
     "source": [
      "After the simulation is done, it will print out in the terminal the take it took. New files are generated:  \n",
      "\n",
      "* run1.log  #thermodynamic quantites are saved here. (ASCII file).\n",
      "* run1.dcd  #snapshots are saved here (binary file).\n",
      "* run1.restart.coor  #coordinates of the system when the simulation finished, in high precision\n",
      "* run1.restart.vel   #velocities of the system when the simulation finished, in high precision\n",
      "* run1.restart.xsc   #geometric boundaries of the system when the simulation finished\n",
      "\n",
      "One can elongate the simulation by running a second simulation using as starting conformation files files run1.restart.coor, run1.restart.vel,run1.restart.xsc "
     ]
    },
    {
     "cell_type": "markdown",
     "metadata": {},
     "source": [
      "(<a href='#Table of Contents'>Top</a>)<a id='visualize'></a><h3>Visualize the simulation, plot thermodynamic quantities</h3>\n",
      "\n",
      "We will use the [VMD](http://www.ks.uiuc.edu/Research/vmd/) program to visualize results. Thermodynamic quantities are stored in file <i>run1.log</i> and can be plotted with the [namdplot](http://www.ks.uiuc.edu/Research/vmd/plugins/namdplot/) plugin. In the terminal, start vmd:  "
     ]
    },
    {
     "cell_type": "code",
     "collapsed": true,
     "input": [
      "%%bash\n",
      "vmd &  #starts the vmd program"
     ],
     "language": "python",
     "metadata": {},
     "outputs": []
    },
    {
     "cell_type": "markdown",
     "metadata": {},
     "source": [
      "The plugin is accessible from the Extensions tab:  \n",
      "<center><a href=\"files/supporting/namd_plot.png\"><img src=\"files/supporting/namd_plot.png\" width=\"600\" height=\"600\" alt=\"namd_plot.png\"></a></center>  \n",
      "The interface is pretty self explanatory. Loading of the file and plotting the desired quantities are accessible from the File menu:  \n",
      "<center><a href=\"files/supporting/namd_plot.2.png\"><img src=\"files/supporting/namd_plot.2.png\" width=\"300\" height=\"300\" alt=\"namd_plot.2.\n",
      "png\"></a></center>  \n",
      "You can inspect the different energy terms (BOND, ANGLE, DIHEDRAL, IMPROP, ELEC, VDW) as well as total energy (TOTAL) and temperature (TEMP). Since this is a simulation in \"infinite\" vacuum, there is no relevant information on volume or pressure.  \n",
      "\n",
      "Next, we will visualize the simulation as a movie. We will also use VMD for this purpose and you can use the current VMD session.  "
     ]
    },
    {
     "cell_type": "markdown",
     "metadata": {},
     "source": [
      "(<a href='#Table of Contents'>Top</a>)<a id='carry_MD_NVE'></a><h3>Carry out the simulation in the NVE ensemble</h3>\n"
     ]
    },
    {
     "cell_type": "markdown",
     "metadata": {},
     "source": [
      "(<a href='#Table of Contents'>Top</a>)<a id='RMSD'></a><h3>Remove global translations and rotations with AmberTools</h3>\n"
     ]
    },
    {
     "cell_type": "markdown",
     "metadata": {},
     "source": [
      "(<a href='#Table of Contents'>Top</a>)<a id='view'></a><h3>View/Edit the contents on an ASCII file</h3>\n",
      "For those not familiar with the Linux operating system, we enumerate here a few ways to view and/or edit an ASCII file:  \n",
      "\n",
      "1 File is shown in the terminal:  "
     ]
    },
    {
     "cell_type": "code",
     "collapsed": false,
     "input": [
      "%%bash\n",
      "cat file  #will dump all contents of the file to the terminal\n",
      "less file #will fill the terminal with beginning of the file, and wait for user input\n",
      "vi file #the best Linux text editor according to vi fans\n",
      "emacs -nw file #the best Linux text editor according to emacs fans"
     ],
     "language": "python",
     "metadata": {},
     "outputs": []
    },
    {
     "cell_type": "markdown",
     "metadata": {},
     "source": [
      "2 File is shown in a separate window"
     ]
    },
    {
     "cell_type": "code",
     "collapsed": false,
     "input": [
      "%%bash\n",
      "emacs file &\n",
      "gedit file  & #recommended for those familiar with windows, similar to notepad\n",
      "openoffice.org file & #like WORD, maybe to much for a simple ASCII file"
     ],
     "language": "python",
     "metadata": {},
     "outputs": []
    },
    {
     "cell_type": "markdown",
     "metadata": {},
     "source": [
      "(<a href='#Table of Contents'>Top</a>)<a id='Section'></a><h2>Section</h2>"
     ]
    },
    {
     "cell_type": "markdown",
     "metadata": {},
     "source": [
      "(<a href='#Table of Contents'>Top</a>)<a id='Section.subsection'></a><h3>Subsection</h3>\n"
     ]
    },
    {
     "cell_type": "markdown",
     "metadata": {},
     "source": [
      "(<a href='#Table of Contents'>Top</a>)<a id='Section.subsection.subsubsection'></a><h3>Sub-subsection</h3>\n"
     ]
    },
    {
     "cell_type": "markdown",
     "metadata": {},
     "source": [
      "(<a href='#Table of Contents'>Top</a>)<a id='Section.subsection.subsubsection.subsubsubsection'></a><h3>Sub-sub-subsection</h3>\n"
     ]
    },
    {
     "cell_type": "markdown",
     "metadata": {},
     "source": [
      "(<a href='#Table of Contents'>Top</a>)<a id='Syntax'></a><h3>Markdown Syntax Examples</h3>\n",
      "local link: [link](files/link)</br>\n",
      "remote link: <a href=\"http://ambermd.org/\">http://ambermd.org</a>\n",
      "<font face=\"courier new\"> font face=\"courier new\" </font><br/>\n",
      "$$S_{model}(Q,E)=A(Q)\\cdot S_{elastic}(E) + B(Q)\\cdot S_{simulation}(Q,E)\\otimes S_{elastic}(E) + C(Q)+D(Q)\\cdot E$$\n",
      "<pre> Quoted text </pre>\n",
      "<center><table><tr>\n",
      "<td><a href=\"files/image.png\"><img src=\"files/image.png\" width=\"300\" height=\"250\" alt=\"image here\"></a> <br/>\n",
      "    <i>image caption</i></td>\n",
      "<td>some text</td>\n",
      "</tr></table></center>"
     ]
    }
   ],
   "metadata": {}
  }
 ]
}