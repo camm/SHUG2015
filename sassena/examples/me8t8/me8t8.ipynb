{
 "metadata": {
  "name": "",
  "signature": "sha256:61c0fbfd656da0101a745e69b0bd7a5f1e2631a7f05f20bfd277773d1996e736"
 },
 "nbformat": 3,
 "nbformat_minor": 0,
 "worksheets": [
  {
   "cells": [
    {
     "cell_type": "markdown",
     "metadata": {},
     "source": [
      "This notebook contains a tutorial to carry out calculation of the intermediate structure factor $I(Q,t)$ with the Sassena program. It is recommended that you do the molecular dynamics tutorial for this same molecule before trying this tutorial.\n",
      "\n",
      "<h1>Sassena calculations on a mPOSS simulation</h1>\n",
      "<a id='Table of Contents'></a><h3>Table of Contents</h3>\n",
      " \n",
      "<a href='#me8t8'>Octa-methyl Silsesqioxane</a>  \n",
      "<a href='#calc_fqt'>Calculation of $I(Q,t)$ and quick view with hdfview</a>  \n",
      "<a href='#load'>Load Sassena output into Mantid</a>  \n",
      "<a href='#fit'>Fit the structure factor to a jump-diffusion model</a>  \n",
      "<a href='#view'>View/Edit the contents on an ASCII file</a>\n",
      "\n",
      "<a href='#Section'><h4>Section</h4></a>\n",
      "\n",
      "* <a href='#Section.subsection'>subsection</a>  \n",
      "\n",
      "<a href='#Syntax'>Examples of HTML and Markdown syntax</a></br>"
     ]
    },
    {
     "cell_type": "markdown",
     "metadata": {},
     "source": [
      "(<a href='#Table of Contents'>Top</a>)<a id='me8t8'></a><h3>Octa-methyl Silsesqioxane (mPOSS)</h3>\n",
      "The mPOSS molecule is composed of a cubic cage where silicon atoms occupy the cube vertices, and oxygen atoms are located in the cube edges (see below figure). Thus, each Si atom has a tetrahedral coordination to three O atoms and one methyl group. Methyl substitution by other chemical species makes POSS molecules highly versatile, with applications as organic solvents, polymer dispersants, catalysts, nanocomposites, diodes, and many other uses. In particular, mPOSS has found application as a coating for carbon fibers and low-dielectric films.  \n",
      "<center><a href=\"files/supporting/me8t8_molecule.png\"><img src=\"files/supporting/me8t8_molecule.png\" width=\"300\" height=\"300\" alt=\"me8t8_molecule.png\"></a></center>  \n",
      "mPOSS molecule composed of Si (yellow), O (red), C (cyan), and H (grey) atoms. Nine different chains of consecutive O-Si-C-H covalent bonds can be constructed for each methyl group, due to the three different oxygen and hydrogen atoms that can be selected at the extremes of the chain.\n",
      "<center><a href=\"files/supporting/me8t8_crystal.png\"><img src=\"files/supporting/me8t8_crystal.png\" width=\"300\" height=\"300\" alt=\"me8t8_crystal.png\"></a></center>  \n",
      "mPOSS molecule non-vibrational degrees of freedom are restricted to dicrete rotational diffusion of the methyl groups (-CH3). In the AMBER force field the barrier to rotation is described by a dihedral 4-body term.  \n",
      "<center>$V(\\phi)=K[1+cos(3\\phi)]$</center>  \n",
      "Where $\\phi$ is the dihedral angle defined by one of the nine combinations that can be formed with the four linked atoms O, Si, C, and H.  "
     ]
    },
    {
     "cell_type": "markdown",
     "metadata": {},
     "source": [
      "(<a href='#Table of Contents'>Top</a>)<a id='calc_fqt'></a><h3>Calculation of $I(Q,t)$ and quick view with hdfview</h3>\n",
      "\n",
      "The neccesary files to carry out the simulation are:  \n",
      "\n",
      "* me8t8.pdb (list of atoms and molecule name)\n",
      "* hydrogens.pdb (selection of atoms over which to calculate $I(Q,t)$)\n",
      "* run1_rms2first.dcd (molecular dynamics trajectory with removed global rotations and translations. 4000 frames, with frames recorded every 1ps, for a total of 4ns).\n",
      "* [sassena.xml](files/sassena.xml) (input options for the Sassena program)\n",
      "\n",
      "If you completed the tutorial on molecular dynamics for this molecule, you should have produced file <i>run1_rms2first.dcd</i> yourself.\n",
      "\n",
      "Inspect file <i>sassena.xml</i> (can be viewed in the web browser):  \n",
      "\n",
      "* How many Q-values are we sampling?\n",
      "* For a given Q-value, how many vectors will are being sampled to perform the orientational average?\n",
      "* Are we calculating the coherent of the incoherent cross section? How can you tell?\n",
      "* If we inspect file <i>hydrogens.pdb</i> (if necessary, refer to <a href='#view'>View/Edit the contents on an ASCII file</a>), how can we tell which atoms are selected for the $I(q,t)$ calculation?\n",
      "\n",
      "Inspect file <i>hydrogens.pdb</i>. Find out what atoms are being selected for the calculation of $I(Q,t)$.\n",
      "\n",
      "All neccessary files are contained in directory <i>&#36;HOME/SHUG2015/sassena/examples/me8t8/</i>. Let's copy then to the scracth area:  "
     ]
    },
    {
     "cell_type": "code",
     "collapsed": false,
     "input": [
      "%%bash\n",
      "mkdir -p /SNS/local/scratch/$USER/me8t8/\n",
      "cd $HOME/SHUG2015/sassena/examples/me8t8/\n",
      "/bin/cp hydrogens.pdb me8t8.pdb  run1_rms2first.dcd  sassena.xml /SNS/local/scratch/$USER/me8t8/\n",
      "cd /SNS/local/scratch/$USER/me8t8/"
     ],
     "language": "python",
     "metadata": {},
     "outputs": []
    },
    {
     "cell_type": "markdown",
     "metadata": {},
     "source": [
      "2 Load the sassena module. This will make available the sassena command to actually run the calculation"
     ]
    },
    {
     "cell_type": "code",
     "collapsed": false,
     "input": [
      "%%bash\n",
      "module load sassena\n",
      "which sassena  #will print the path to the namd executable"
     ],
     "language": "python",
     "metadata": {},
     "outputs": []
    },
    {
     "cell_type": "markdown",
     "metadata": {},
     "source": [
      "Now run the calculation. We ask that you limit to four cores. It should take about 1 minute"
     ]
    },
    {
     "cell_type": "code",
     "collapsed": false,
     "input": [
      "%%bash\n",
      "time mpirun -np 4 sassena --config sassena.xml &> sassena.log"
     ],
     "language": "python",
     "metadata": {},
     "outputs": []
    },
    {
     "cell_type": "markdown",
     "metadata": {},
     "source": [
      "After the calculation is done, it will print out in the terminal the take it took. New files are generated:  \n",
      "\n",
      "* sassena.log #several info messages regarding details of the computaion\n",
      "* fqt_inc.h5  #structure factor $I(Q,t)$, in binary format.\n",
      "\n",
      "File <i>fqt_inc.h5</i> can be inspected with command <code>hdfview</code>. In the terminal (assuming you are in the me8t8 subdirectory), type:  "
     ]
    },
    {
     "cell_type": "code",
     "collapsed": false,
     "input": [
      "%%bash\n",
      "hdfview &"
     ],
     "language": "python",
     "metadata": {},
     "outputs": []
    },
    {
     "cell_type": "markdown",
     "metadata": {},
     "source": [
      "Load file <i>fqt_inc.h5</i> thought the $File \\rightarrow Open$ browser.  \n",
      "\n",
      "<center><a href=\"files/supporting/hdfview.1.png\"><img src=\"files/supporting/hdfview.1.png\" width=\"600\" height=\"600\" alt=\"hdfview.1.png\"></a></center>  \n",
      "\n",
      "Now double-click in the <i>fqt</i> block data to display the nine structure factors (one per row). Highlight the first row (row in index=0, corresponding to $I(Q=0.3,t)$) and click in the \"Line Plot\" icon:  \n",
      "\n",
      "<center><a href=\"files/supporting/hdfview.2.png\"><img src=\"files/supporting/hdfview.2.png\" width=\"600\" height=\"600\" alt=\"hdfview.2.png\"></a></center>  \n",
      "\n",
      "In the <i>Line Plot Options</i> be sure to select \"Row\" and then click \"OK\":  \n",
      "\n",
      "<center><a href=\"files/supporting/hdfview.3.png\"><img src=\"files/supporting/hdfview.3.png\" width=\"200\" height=\"200\" alt=\"hdfview.3.png\"></a></center>  \n",
      "\n",
      "A simple plot of $I(Q=0.3,t)$ will be displayed. It shows a fast decay (in less than 200ps) follow by a fluctuating plateau.  \n",
      "\n",
      "<center><a href=\"files/supporting/hdfview.4.png\"><img src=\"files/supporting/hdfview.4.png\" width=\"300\" height=\"300\" alt=\"hdfview.4.png\"></a></center>  "
     ]
    },
    {
     "cell_type": "markdown",
     "metadata": {},
     "source": [
      "(<a href='#Table of Contents'>Top</a>)<a id='load'></a><h3>Load Sassena output into Mantid</h3>\n",
      "Now we are ready to load file <i>fqt_inc.h5</i> in MantidPlot.  \n",
      "\n",
      "A tutorial for Basic introduction and usage of Mantid is available [here](http://www.mantidproject.org/Mantid_Basic_Course). Of special relevance are sections \"Loading and Displaying Data\" as well as \"Fitting\"  \n",
      "\n",
      "We start by opening MantidPlot:  "
     ]
    },
    {
     "cell_type": "code",
     "collapsed": false,
     "input": [
      "%%bash\n",
      "module load mantid\n",
      "MantidPlot &"
     ],
     "language": "python",
     "metadata": {},
     "outputs": []
    },
    {
     "cell_type": "markdown",
     "metadata": {},
     "source": [
      "The Mantid session will start. Select <i>SNS</i> as \"Default Facility\" and <i>BASIS</i> as \"Default Instrument\":  \n",
      "\n",
      "<center><a href=\"files/supporting/starting.2.png\"><img src=\"files/supporting/starting.2.png\" width=\"500\" height=\"500\" alt=\"supporting/starting.2.png\"></a></center>\n",
      "\n",
      "* Click on the \"Manage User Directories\" button.  \n",
      "* Click \"Browse To Directory\" and navigate to the location of the data files (/SNS/local/scratch/&#36;USER/me8t8/).  \n",
      "* Do the same for the default save directory.  \n",
      "\n",
      "<center><a href=\"files/supporting/starting.3.png\"><img src=\"files/supporting/starting.3.png\" width=\"400\" height=\"400\" alt=\"supporting/starting.3.png\"></a></center>\n",
      "\n",
      "* Click \"OK\".  \n",
      "* Click \"Set\". \n",
      "\n",
      "The initial Mantid session should look like the picture below, but don't worry if some of the panels are not showing up. Panels can be brought to view from the <b>View</b> menu.  \n",
      "\n",
      "<center><a href=\"files/supporting/starting.4.png\"><img src=\"files/supporting/starting.4.png\" width=\"800\" height=\"800\" alt=\"supporting/starting.4.png\"></a></center>  \n",
      "\n",
      "As a first impression, you can think of Mantid as a collection of <i>Algorithms</i> and workspaces. An algorithm is a piece of code that perform a specific task. A workspace is the (multidimensional) matrices where data are stored.\n",
      "\n",
      "We will use algorithm \"LoadSassena\"  :\n",
      "\n",
      "* Type LoadSassena in the Algorithm and click in \"Execute\", the Algorithm dialog window will popup.\n",
      "* Browse to the location of the file <i>fqt_inc.h5</i>\n",
      "* We are storing the contents of file <i>fqt_inc.h5</i> into a workspace which we name as \"fqt\"\n",
      "* Recall that our trajectory had frames separated by 1ps. The \"TimeUnit\" is separation between consecutive frames, and the units are precisely picoseconds.\n",
      "* Click in \"Run\" to do the actual loading.\n",
      "\n",
      "<center><a href=\"files/supporting/load_sassena.1.png\"><img src=\"files/supporting/load_sassena.1.png\" width=\"600\" height=\"600\" alt=\"supporting/load_sassena.1.png\"></a></center>  \n",
      "\n",
      "Workspace \"fqt\" (in the figure, within the orange dashed circle) is instantiated in the workspace pannel.  \n",
      "\n",
      "Let's expand the contents of fqt. If you click in the \"+\" sign, we see that \"fqt\" is actually made up of six workspaces.  \n",
      "\n",
      "<center><a href=\"files/supporting/load_sassena.2.png\"><img src=\"files/supporting/load_sassena.2.png\" width=\"200\" height=\"200\" alt=\"supporting/load_sassena.2.png\"></a></center>  \n",
      "\n",
      "* fqt_qvectors - List of generating Q-vectors, each one was orientationally averaged, each one has a different modulus (from 0.3$A^{-1}$ to 1.9$A^{-1}$). \n",
      "* fqt_fq0 - This is $I(Q,t=0)$. This is an incoherent signal, thus $I(Q,t=0)=\\sum_i |b_i^{incoh}|^2$, a constant.\n",
      "* fqt_fqt.Re - Real part of $I(Q,t)$.\n",
      "* fqt_fqt.Im - Imaginary part of $I(Q,t)$. For a perfect orientational average, this shold be exactly zero.  \n",
      "* fqt_fq - $\\int dt I(Q,t) = S(Q,E=0)$\n",
      "* fqt_fq2 - $\\int dt |I(Q,t)|^2$\n",
      "\n",
      "Clicking in the \"+\" of each workspace will show a brief report of its contents.  For instance, <i>fqt_fqt.Re</i> will inform this workspace contains 9 histograms (one per Q-value, values are 0.3$A^{-1}$, 0.5$A^{-1}$, 0.7$A^{-1}$,...,1.9$A^{-1}$) and each histogram contains 7999 bins corresponding to 7999 time points.  \n",
      "\n",
      "<center><a href=\"files/supporting/load_sassena.3.png\"><img src=\"files/supporting/load_sassena.3.png\" width=\"300\" height=\"300\" alt=\"supporting/load_sassena.3.png\"></a></center>  \n",
      "\n",
      "Let's plot the histogram corresponding to Q=0.5 and Q=0.9. First left-click in workspace <i>fqt_fqt.Re</i> and select \"Plot Spectrum\" \n",
      "\n",
      "<center><a href=\"files/supporting/load_sassena.4.png\"><img src=\"files/supporting/load_sassena.4.png\" width=\"300\" height=\"300\" alt=\"supporting/load_sassena.4.png\"></a></center>  \n",
      "\n",
      "In the popup enter the appropriate indexes for these two Q-values,separated by a comma,then press OK.\n",
      "\n",
      "<center><a href=\"files/supporting/load_sassena.5.png\"><img src=\"files/supporting/load_sassena.5.png\" width=\"200\" height=\"200\" alt=\"supporting/load_sassena.5.png\"></a></center>  \n",
      "\n",
      "The two histrograms are depicted on the same plot.\n",
      "\n",
      "<center><a href=\"files/supporting/load_sassena.6.png\"><img src=\"files/supporting/load_sassena.6.png\" width=\"300\" height=\"300\" alt=\"supporting/load_sassena.6.png\"></a></center>  \n",
      "\n",
      "Why does the plateau diminishes with increasing Q-value? (Hint: $I(Q,t)$ is the Fourier transform of the self-correlation function $G(r,t)$. What is the physical meaning of this correlation function?)  \n",
      "\n",
      "Notice that $I(Q,t)$ extends to negative times, but we do not have negative times in the simulation, nor in the sassena output file <i>fqt_inc.h5</i>. The LoadSassena algorithm assumes that $I(Q,t)$ is an even funtion of time, and will symmetrize the data loaded from file <i>fqt_inc.h5</i>. This step is justified because the Newtons's equations are invariant under time reversal (at least for potentials that are time-independent, as was the case of our simulation).\n",
      "\n",
      "<b>Exercise</b> Plot the imaginary part of $I(Q,t)$ (workspace <i>fqt_fqt.Im</i>).  \n",
      "\n",
      "* How does the maximum of this quantity compares with the maximum of the real part?\n",
      "* Is the imaginary part an even function of time? Why not? (Hint: $S(Q,E)$, the Fourier transform of $I(q,t)$, is a real function)  \n",
      "\n",
      "We can inspect the actual data of workspace <i>fqt_fqt.Re</i> by double-clicking on the worspace. It also shows the Q-values of each histogram on the left column.  \n",
      "\n",
      "<center><a href=\"files/supporting/load_sassena.7.png\"><img src=\"files/supporting/load_sassena.7.png\" width=\"500\" height=\"500\" alt=\"supporting/load_sassena.7.png\"></a></center>  \n",
      "\n",
      "At this point, it is useful to check out the [Mantid help on displaying data](http://www.mantidproject.org/MBC_Displaying_data) to be ware of other ways of plotting data, or adding a curve to and existing plot.\n"
     ]
    },
    {
     "cell_type": "markdown",
     "metadata": {},
     "source": [
      "(<a href='#Table of Contents'>Top</a>)<a id='view'></a><h3>View/Edit the contents on an ASCII file</h3>\n",
      "For those not familiar with the Linux operating system, we enumerate here a few ways to view and/or edit an ASCII file:  \n",
      "\n",
      "1 File is shown in the terminal:  "
     ]
    },
    {
     "cell_type": "code",
     "collapsed": false,
     "input": [
      "%%bash\n",
      "cat file  #will dump all contents of the file to the terminal\n",
      "less file #will fill the terminal with beginning of the file, and wait for user input\n",
      "vi file #the best Linux text editor according to vi fans\n",
      "emacs -nw file #the best Linux text editor according to emacs fans"
     ],
     "language": "python",
     "metadata": {},
     "outputs": []
    },
    {
     "cell_type": "markdown",
     "metadata": {},
     "source": [
      "2 File is shown in a separate window"
     ]
    },
    {
     "cell_type": "code",
     "collapsed": false,
     "input": [
      "%%bash\n",
      "emacs file &\n",
      "gedit file  & #recommended for those familiar with windows, similar to notepad\n",
      "openoffice.org file & #like WORD, maybe to much for a simple ASCII file"
     ],
     "language": "python",
     "metadata": {},
     "outputs": []
    },
    {
     "cell_type": "markdown",
     "metadata": {},
     "source": [
      "(<a href='#Table of Contents'>Top</a>)<a id='Section'></a><h2>Section</h2>"
     ]
    },
    {
     "cell_type": "markdown",
     "metadata": {},
     "source": [
      "(<a href='#Table of Contents'>Top</a>)<a id='Section.subsection'></a><h3>Subsection</h3>\n"
     ]
    },
    {
     "cell_type": "markdown",
     "metadata": {},
     "source": [
      "(<a href='#Table of Contents'>Top</a>)<a id='Syntax'></a><h3>Markdown Syntax Examples</h3>\n",
      "local link: [link](files/link)</br>\n",
      "remote link: <a href=\"http://ambermd.org/\">http://ambermd.org</a>\n",
      "<font face=\"courier new\"> font face=\"courier new\" </font><br/>\n",
      "$$S_{model}(Q,E)=A(Q)\\cdot S_{elastic}(E) + B(Q)\\cdot S_{simulation}(Q,E)\\otimes S_{elastic}(E) + C(Q)+D(Q)\\cdot E$$\n",
      "<pre> Quoted text </pre>\n",
      "<center><table><tr>\n",
      "<td><a href=\"files/image.png\"><img src=\"files/image.png\" width=\"300\" height=\"250\" alt=\"image here\"></a> <br/>\n",
      "    <i>image caption</i></td>\n",
      "<td>some text</td>\n",
      "</tr></table></center>"
     ]
    }
   ],
   "metadata": {}
  }
 ]
}