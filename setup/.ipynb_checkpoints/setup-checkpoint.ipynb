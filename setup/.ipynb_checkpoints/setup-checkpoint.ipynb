{
 "metadata": {
  "name": "",
  "signature": "sha256:61c0fbfd656da0101a745e69b0bd7a5f1e2631a7f05f20bfd277773d1996e736"
 },
 "nbformat": 3,
 "nbformat_minor": 0,
 "worksheets": [
  {
   "cells": [
    {
     "cell_type": "markdown",
     "metadata": {},
     "source": [
      "<h1>Set up</h1>\n",
      "<a id='Table of Contents'></a><h3>Table of Contents</h3>\n",
      " \n",
      "<a href='#x2go'>Set up a remote session in CAMM2 with X2Go</a>  \n",
      "<a href='#repository'>Download all materials for the tutorial</a>  \n",
      "<a href='#notebook'>Viewing ipython notebooks</a>  \n",
      "\n",
      "<a href='#Section'><h4>Section</h4></a>\n",
      "\n",
      "* <a href='#Section.subsection'>subsection</a>  \n",
      "    - <a href='#Section.subsection.subsubsection'>Subsubsetion</a>  \n",
      "        + <a href='#Section.subsection.subsubsection.subsubsubsection'>sub-sub-subsection</a>  \n",
      "\n",
      "<a href='#Syntax'>Examples of HTML and Markdown syntax</a></br>"
     ]
    },
    {
     "cell_type": "markdown",
     "metadata": {},
     "source": [
      "(<a href='#Table of Contents'>Top</a>)<a id='x2go'></a><h3>Set up a remote session in CAMM2 with X2Go</h3>\n",
      "\n",
      "By installing the X2Go client in your machine, you will be able to login remotely to camm2.sns.gov.  \n",
      "\n",
      "1. Install in your machine the x2go client, downloadable [here](http://wiki.x2go.org/doku.php/start).  \n",
      "2. Open x2go and start to configure a new session: \n",
      "\n",
      "<center><a href=\"files/supporting/x2go.1.PNG\"><img src=\"files/supporting/x2go.1.PNG\" width=\"800\" height=\"800\" alt=\"supporting/x2go.1.PNG\"></a></center>  \n",
      "\n",
      "3. In the session configuration dialog, name your session name as CAMM2, enter camm2.sns.gov as Host, and enter your UCAMS/XCAMS username. In Session type, select LXDE, which is an appropriate desktop environment for remote connections. Then, press OK. \n",
      "\n",
      "<center><a href=\"files/supporting/x2go.2.PNG\"><img src=\"files/supporting/x2go.2.PNG\" width=\"400\" height=\"400\" alt=\"supporting/x2go.2.PNG\"></a></center>  \n",
      "\n",
      "4. You have now a CAMM2 session on the session panels. Congratulations!  \n",
      "\n",
      "<center><a href=\"files/supporting/x2go.3.PNG\"><img src=\"files/supporting/x2go.3.PNG\" width=\"600\" height=\"600\" alt=\"supporting/x2go.3.PNG\"></a></center>  \n",
      "\n",
      "5.To start this session, just click on the CAMM session. A dialog requesting your UCAMS/XCAMS password will open. Enter the password and press OK.  \n",
      "\n",
      "<center><a href=\"files/supporting/x2go.4.PNG\"><img src=\"files/supporting/x2go.4.PNG\" width=\"600\" height=\"600\" alt=\"supporting/x2go.4.PNG\"></a></center>  \n",
      "\n",
      "6. Wait a moment until the remote session is stablished, then enjoy!  \n",
      "\n",
      "<center><a href=\"files/supporting/x2go.5.PNG\"><img src=\"files/supporting/x2go.5.PNG\" width=\"800\" height=\"800\" alt=\"supporting/x2go.5.PNG\"></a></center>  \n",
      "\n"
     ]
    },
    {
     "cell_type": "markdown",
     "metadata": {},
     "source": [
      "(<a href='#Table of Contents'>Top</a>)<a id='repository'></a><h3>Download all materials for the tutorial</h3>\n",
      "Once you are logged in camm2.sns.gov, open a terminal and type:  \n",
      "<code>\n",
      "    cd ~/  \n",
      "    git clone https://github.com/camm/SHUG2015.git\n",
      "</code>  \n",
      "These instructions will download the remote [GitHub repository](https://github.com/camm/SHUG2015) into subdirectory <i>SHUG2015/</i>. This directory contains all files for the tutorial.  "
     ]
    },
    {
     "cell_type": "markdown",
     "metadata": {},
     "source": [
      "(<a href='#Table of Contents'>Top</a>)<a id='notebook'></a><h3>Viewing ipython notebooks</h3>\n",
      "Much of the discussion in this tutorial will be presented through [ipython notebooks](http://ipython.org/notebook.html). You have to ways of opening a notebook:  \n",
      "\n",
      "<b>Open the notebook in the remote repository</b>\n",
      "\n",
      "Point your web browser to the [notebook viewer](http://nbviewer.ipython.org/github/camm/SHUG2015/tree/master/) for this tutorial. you will see the contents of the repository in GitHub. Now you can navigate to folder \n"
     ]
    },
    {
     "cell_type": "markdown",
     "metadata": {},
     "source": [
      "(<a href='#Table of Contents'>Top</a>)<a id='Section'></a><h2>Section</h2>"
     ]
    },
    {
     "cell_type": "markdown",
     "metadata": {},
     "source": [
      "(<a href='#Table of Contents'>Top</a>)<a id='Section.subsection'></a><h3>Subsection</h3>\n"
     ]
    },
    {
     "cell_type": "markdown",
     "metadata": {},
     "source": [
      "(<a href='#Table of Contents'>Top</a>)<a id='Section.subsection.subsubsection'></a><h3>Sub-subsection</h3>\n"
     ]
    },
    {
     "cell_type": "markdown",
     "metadata": {},
     "source": [
      "(<a href='#Table of Contents'>Top</a>)<a id='Section.subsection.subsubsection.subsubsubsection'></a><h3>Sub-sub-subsection</h3>\n"
     ]
    },
    {
     "cell_type": "markdown",
     "metadata": {},
     "source": [
      "(<a href='#Table of Contents'>Top</a>)<a id='Syntax'></a><h3>Markdown Syntax Examples</h3>\n",
      "local link: [link](files/link)</br>\n",
      "remote link: <a href=\"http://ambermd.org/\">http://ambermd.org</a>\n",
      "<font face=\"courier new\"> font face=\"courier new\" </font><br/>\n",
      "$$S_{model}(Q,E)=A(Q)\\cdot S_{elastic}(E) + B(Q)\\cdot S_{simulation}(Q,E)\\otimes S_{elastic}(E) + C(Q)+D(Q)\\cdot E$$\n",
      "<pre> Quoted text </pre>\n",
      "<center><table><tr>\n",
      "<td><a href=\"files/image.png\"><img src=\"files/image.png\" width=\"300\" height=\"250\" alt=\"image here\"></a> <br/>\n",
      "    <i>image caption</i></td>\n",
      "<td>some text</td>\n",
      "</tr></table></center>"
     ]
    }
   ],
   "metadata": {}
  }
 ]
}